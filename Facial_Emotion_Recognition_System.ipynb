{
 "cells": [
  {
   "cell_type": "markdown",
   "metadata": {},
   "source": [
    "# Facial Emotion Recognition System\n",
    "### Using TFLearn Api for this purpose rather than making each convolutional layer and edit them\n",
    "### Use tensorboard to show statistics\n"
   ]
  },
  {
   "cell_type": "code",
   "execution_count": 1,
   "metadata": {},
   "outputs": [],
   "source": [
    "#important dependencies to import\n",
    "import numpy as np # for multi-dimensional arrays\n",
    "import os # for accessing directories for local data\n",
    "from random import shuffle # shuffling data for training and testing\n",
    "from tqdm import tqdm # It will show data to iterate in arrays or multi-arrays on console\n",
    "import cv2 # used to read images\n",
    "import pandas as pd # used to read csv file and create dataframe\n",
    "\n",
    "\n"
   ]
  },
  {
   "cell_type": "code",
   "execution_count": null,
   "metadata": {
    "collapsed": true
   },
   "outputs": [],
   "source": [
    "train_directory = 'https://www.floydhub.com/farooqkhadim/datasets/kaggle-fer-dataset/3/FER2013Train'\n",
    "train_directory = 'https://www.floydhub.com/farooqkhadim/datasets/kaggle-fer-dataset/3/FER2013Test'\n",
    "\n",
    "img_size = 48 # as the images size are the same as 48 * 48 but we are fixing it for our check\n",
    "\n",
    "learning_rate = 1e-3 #learning rate. If the learning rate is slow. It gets good results.\n",
    "# Give name to model. As it take time to train model and require hardware so to avoid this expense,\n",
    "# we are saving in order to retreive it later for further use.\n",
    "model_name = 'facialrecognition-{}-{}.model'.format(LR, '2conv-basic')"
   ]
  },
  {
   "cell_type": "code",
   "execution_count": null,
   "metadata": {
    "collapsed": true
   },
   "outputs": [],
   "source": [
    "# reading labeltest.csv file which contains emotions for test using pandas read_csv function\n",
    "df_test = pd.read_csv('https://www.floydhub.com/farooqkhadim/datasets/kaggle-fer-dataset/3/LabelTest.csv', header=None)\n",
    "# validating or checking by checking statistics\n",
    "df_test.describe()\n",
    "# show some of the values\n",
    "df_test.head()\n",
    "# converting dataframe to numpy nd array using pandas.dataframe function as_matrix()\n",
    "test_label = df_test.as_matrix()"
   ]
  },
  {
   "cell_type": "code",
   "execution_count": null,
   "metadata": {
    "collapsed": true
   },
   "outputs": [],
   "source": [
    "def create_train_data():\n",
    "    #Function to create training data\n",
    "    # Again we are reading csv file through pandas read_csv() \n",
    "    df_train = pd.read_csv('https://www.floydhub.com/farooqkhadim/datasets/kaggle-fer-dataset/3/LabelTrain.csv', header=None)\n",
    "    # convert dataframe to ndarray\n",
    "    train_label = df_train.as_matrix()\n",
    "    training_data = []\n",
    "    # iterating through the directories of training and through array to get values and add them to single array so\n",
    "    # feature and label gets togather i.e [features: label]\n",
    "    for img,label in zip(tqdm(os.listdir(train_directory)),np.nditer(train_label)):\n",
    "        path = os.path.join(train_directory,img)\n",
    "        img = cv2.imread(path,cv2.IMREAD_GRAYSCALE)\n",
    "        img = cv2.resize(img, (img_size,img_size))\n",
    "        training_data.append([np.array(img),np.array(label)])\n",
    "    shuffle(training_data) # suffling data\n",
    "    #saving created array for further use and we don't need to iterate through again to make traing data\n",
    "    np.save('train_data.npy', training_data)\n",
    "    return training_data"
   ]
  },
  {
   "cell_type": "code",
   "execution_count": null,
   "metadata": {
    "collapsed": true
   },
   "outputs": [],
   "source": [
    "def process_test_data():\n",
    "    #Function to create testing data\n",
    "    testing_data = []\n",
    "    for img in tqdm(os.listdir(TEST_DIR))):\n",
    "        img_num = img.split('.')[0]\n",
    "        path = os.path.join(TEST_DIR,img)\n",
    "        img = cv2.imread(path,cv2.IMREAD_GRAYSCALE)\n",
    "        img = cv2.resize(img, (IMG_SIZE,IMG_SIZE))\n",
    "        testing_data.append([np.array(img), img_num])\n",
    "        \n",
    "    shuffle(testing_data)\n",
    "    np.save('test_data.npy', testing_data)\n",
    "    return testing_data\n",
    "\n"
   ]
  },
  {
   "cell_type": "code",
   "execution_count": null,
   "metadata": {
    "collapsed": true
   },
   "outputs": [],
   "source": [
    "    #callig create train data to\n",
    "train_data = create_train_data()"
   ]
  },
  {
   "cell_type": "code",
   "execution_count": null,
   "metadata": {
    "collapsed": true
   },
   "outputs": [],
   "source": [
    "# import tflearn high level api and setting default graph for tensorflow\n",
    "import tflearn\n",
    "tf.reset_default_graph()"
   ]
  },
  {
   "cell_type": "code",
   "execution_count": null,
   "metadata": {
    "collapsed": true
   },
   "outputs": [],
   "source": [
    "# import different convolutional layers and functions\n",
    "from tflearn.layers.conv import conv_2d, max_pool_2d\n",
    "from tflearn.layers.core import input_data, dropout, fully_connected\n",
    "from tflearn.layers.estimator import regression"
   ]
  },
  {
   "cell_type": "code",
   "execution_count": null,
   "metadata": {
    "collapsed": true
   },
   "outputs": [],
   "source": [
    "# creating layers of Convolutional Neural Network\n",
    "# by increasing convolutional layers its accuracy increases to some point but its processing time also increases and\n",
    "# you have to get extra gpu for this\n",
    "convnet = input_data(shape=[None, img_size, img_size, 1], name='input')\n",
    "\n",
    "convnet = conv_2d(convnet, 64, 5, activation='relu')\n",
    "convnet = max_pool_2d(convnet, 5)\n",
    "\n",
    "convnet = conv_2d(convnet, 128, 5, activation='relu')\n",
    "convnet = max_pool_2d(convnet, 5)\n",
    "\n",
    "convnet = conv_2d(convnet, 156, 5, activation='relu')\n",
    "convnet = max_pool_2d(convnet, 5)\n",
    "\n",
    "convnet = conv_2d(convnet, 128, 5, activation='relu')\n",
    "convnet = max_pool_2d(convnet, 5)\n",
    "\n",
    "convnet = conv_2d(convnet, 64, 5, activation='relu')\n",
    "convnet = max_pool_2d(convnet, 5)\n",
    "\n",
    "convnet = fully_connected(convnet, 1800, activation='relu')\n",
    "convnet = dropout(convnet, 0.8)\n",
    "\n",
    "convnet = fully_connected(convnet, 6, activation='softmax')\n",
    "convnet = regression(convnet, optimizer='adam', learning_rate=learning_rate, loss='categorical_crossentropy', name='targets')\n"
   ]
  },
  {
   "cell_type": "code",
   "execution_count": null,
   "metadata": {
    "collapsed": true
   },
   "outputs": [],
   "source": [
    "# creating model and it's log is stored in tensorboad directory\n",
    "model = tflearn.DNN(convnet, tensorboard_dir='log')\n"
   ]
  },
  {
   "cell_type": "code",
   "execution_count": null,
   "metadata": {
    "collapsed": true
   },
   "outputs": [],
   "source": [
    "# incase we already trained model and we can get from it rather than running whole process again\n",
    "if os.path.exists('{}.meta'.format(MODEL_NAME)):\n",
    "    model.load(MODEL_NAME)\n",
    "    print('Already processed model loaded!')"
   ]
  },
  {
   "cell_type": "code",
   "execution_count": null,
   "metadata": {
    "collapsed": true
   },
   "outputs": [],
   "source": [
    "# getting certain limited values for testing and training\n",
    "train = train_data[:-1800]\n",
    "test = train_data[-1800:]"
   ]
  },
  {
   "cell_type": "code",
   "execution_count": null,
   "metadata": {
    "collapsed": true
   },
   "outputs": [],
   "source": [
    "# X and Y values. X for features and Y for labels(emotion)\n",
    "X = np.array([i[0] for i in train]).reshape(-1,IMG_SIZE,IMG_SIZE,1)\n",
    "Y = [i[1] for i in train]"
   ]
  },
  {
   "cell_type": "code",
   "execution_count": null,
   "metadata": {
    "collapsed": true
   },
   "outputs": [],
   "source": [
    "# getting test x and test y\n",
    "test_x = np.array([i[0] for i in test]).reshape(-1,IMG_SIZE,IMG_SIZE,1)\n",
    "test_y = [i[1] for i in test]"
   ]
  },
  {
   "cell_type": "code",
   "execution_count": null,
   "metadata": {
    "collapsed": true
   },
   "outputs": [],
   "source": [
    "# fitting model and running\n",
    "model.fit({'input': X}, {'targets': Y}, n_epoch=3, validation_set=({'input': test_x}, {'targets': test_y}), \n",
    "    snapshot_step=500, show_metric=True, run_id=model_name)\n",
    "model.save(model_name)"
   ]
  }
 ],
 "metadata": {
  "kernelspec": {
   "display_name": "Python 3",
   "language": "python",
   "name": "python3"
  },
  "language_info": {
   "codemirror_mode": {
    "name": "ipython",
    "version": 3
   },
   "file_extension": ".py",
   "mimetype": "text/x-python",
   "name": "python",
   "nbconvert_exporter": "python",
   "pygments_lexer": "ipython3",
   "version": "3.6.1"
  }
 },
 "nbformat": 4,
 "nbformat_minor": 2
}
